{
 "cells": [
  {
   "cell_type": "markdown",
   "id": "c81daeeb",
   "metadata": {
    "deletable": false,
    "id": "c81daeeb"
   },
   "source": [
    "# Исследование надежности заемщиков\n"
   ]
  },
  {
   "cell_type": "markdown",
   "id": "744d7639",
   "metadata": {
    "deletable": false,
    "id": "744d7639"
   },
   "source": [
    "## Изучение данных"
   ]
  },
  {
   "cell_type": "markdown",
   "id": "e7a14c31",
   "metadata": {
    "deletable": false,
    "id": "e7a14c31"
   },
   "source": [
    "**Задание 1. Импортируйте библиотеку pandas. Считайте данные из csv-файла в датафрейм и сохраните в переменную `data`. Путь к файлу:**\n",
    "\n",
    "`/datasets/data.csv`"
   ]
  },
  {
   "cell_type": "code",
   "execution_count": 1,
   "id": "9dc09227",
   "metadata": {},
   "outputs": [],
   "source": [
    "from pathlib import Path\n",
    "import pandas as pd"
   ]
  },
  {
   "cell_type": "markdown",
   "id": "b3711945",
   "metadata": {},
   "source": [
    "Ниже, небольшая модернизация с помощью функции, которая учитывает различные варианты источников и путей. Конечно, задача здесь простая и не требует такого комплексного подхода, но при изменении условий и сред исполнения, такой подход позволит избежать дополнительных адаптаций кода. \n",
    "    Функция перебирает словарь с переменными и их путями, ищет первый существующий файл для каждой переменной и читает его.\n",
    "    Возвращает словарь с данными из найденных файлов. Если указан параметр assign_to, присваивает каждый DataFrame\n",
    "    соответствующей переменной в этом словаре.\n",
    "    \n",
    "    :param data_sources: словарь с названиями переменных и списками их путей\n",
    "    :param assign_to: словарь, в который будут присвоены DataFrame'ы\n",
    "    :return: словарь с данными для каждой переменной\n",
    "    "
   ]
  },
  {
   "cell_type": "code",
   "execution_count": 2,
   "id": "4a6129d2",
   "metadata": {},
   "outputs": [],
   "source": [
    "def find_and_select_data_files(data_sources, assign_to=None):\n",
    "\n",
    "    data_frames = {}\n",
    "\n",
    "    for variable, paths in data_sources.items():\n",
    "        for file_path in paths:\n",
    "            file = Path(file_path)\n",
    "            if file.exists() and file.is_file():\n",
    "                try:\n",
    "                    if file.suffix == '.csv':\n",
    "                        df = pd.read_csv(file)\n",
    "                    elif file.suffix in ['.xls', '.xlsx']:\n",
    "                        df = pd.read_excel(file)\n",
    "                    else:\n",
    "                        print(f\"Формат файла '{file.suffix}' не поддерживается.\")\n",
    "                        continue\n",
    "\n",
    "                    data_frames[variable] = df\n",
    "                    print(f\"Для переменной '{variable}' прочитан файл: {file}\")\n",
    "\n",
    "                    if assign_to is not None and variable in assign_to:\n",
    "                        globals()[assign_to[variable]] = df\n",
    "\n",
    "                except Exception as e:\n",
    "                    print(f\"Ошибка при чтении файла '{file}': {e}\")\n",
    "                break\n",
    "        else:\n",
    "            print(f\"Файл данных для переменной '{variable}' не найден.\")\n",
    "    \n",
    "    return data_frames"
   ]
  },
  {
   "cell_type": "code",
   "execution_count": 4,
   "id": "7bcf75c9",
   "metadata": {
    "deletable": false,
    "id": "7bcf75c9"
   },
   "outputs": [
    {
     "name": "stdout",
     "output_type": "stream",
     "text": [
      "Для переменной 'data' прочитан файл: data.csv\n"
     ]
    }
   ],
   "source": [
    "data_sources = {\n",
    "    \"data\": [\"/datasets/data.csv\", \"https://code.s3.yandex.net/datasets/data.csv\", \"data.csv\"]\n",
    "}\n",
    "\n",
    "assignments = {\n",
    "    \"data\": \"data\"\n",
    "}\n",
    "\n",
    "\n",
    "dfs = find_and_select_data_files(data_sources, assign_to=assignments)"
   ]
  },
  {
   "cell_type": "markdown",
   "id": "b8038fe3",
   "metadata": {
    "deletable": false,
    "id": "b8038fe3"
   },
   "source": [
    "**Задание 2. Выведите первые 20 строчек датафрейма `data` на экран.**"
   ]
  },
  {
   "cell_type": "code",
   "execution_count": 5,
   "id": "2a7cab99",
   "metadata": {
    "deletable": false,
    "id": "2a7cab99",
    "outputId": "1a8f3ef2-d323-4ec2-ddf7-89670b5944c4",
    "scrolled": true
   },
   "outputs": [
    {
     "data": {
      "text/html": [
       "<div>\n",
       "<style scoped>\n",
       "    .dataframe tbody tr th:only-of-type {\n",
       "        vertical-align: middle;\n",
       "    }\n",
       "\n",
       "    .dataframe tbody tr th {\n",
       "        vertical-align: top;\n",
       "    }\n",
       "\n",
       "    .dataframe thead th {\n",
       "        text-align: right;\n",
       "    }\n",
       "</style>\n",
       "<table border=\"1\" class=\"dataframe\">\n",
       "  <thead>\n",
       "    <tr style=\"text-align: right;\">\n",
       "      <th></th>\n",
       "      <th>children</th>\n",
       "      <th>days_employed</th>\n",
       "      <th>dob_years</th>\n",
       "      <th>education</th>\n",
       "      <th>education_id</th>\n",
       "      <th>family_status</th>\n",
       "      <th>family_status_id</th>\n",
       "      <th>gender</th>\n",
       "      <th>income_type</th>\n",
       "      <th>debt</th>\n",
       "      <th>total_income</th>\n",
       "      <th>purpose</th>\n",
       "    </tr>\n",
       "  </thead>\n",
       "  <tbody>\n",
       "    <tr>\n",
       "      <th>0</th>\n",
       "      <td>1</td>\n",
       "      <td>-8437.673028</td>\n",
       "      <td>42</td>\n",
       "      <td>высшее</td>\n",
       "      <td>0</td>\n",
       "      <td>женат / замужем</td>\n",
       "      <td>0</td>\n",
       "      <td>F</td>\n",
       "      <td>сотрудник</td>\n",
       "      <td>0</td>\n",
       "      <td>253875.639453</td>\n",
       "      <td>покупка жилья</td>\n",
       "    </tr>\n",
       "    <tr>\n",
       "      <th>1</th>\n",
       "      <td>1</td>\n",
       "      <td>-4024.803754</td>\n",
       "      <td>36</td>\n",
       "      <td>среднее</td>\n",
       "      <td>1</td>\n",
       "      <td>женат / замужем</td>\n",
       "      <td>0</td>\n",
       "      <td>F</td>\n",
       "      <td>сотрудник</td>\n",
       "      <td>0</td>\n",
       "      <td>112080.014102</td>\n",
       "      <td>приобретение автомобиля</td>\n",
       "    </tr>\n",
       "    <tr>\n",
       "      <th>2</th>\n",
       "      <td>0</td>\n",
       "      <td>-5623.422610</td>\n",
       "      <td>33</td>\n",
       "      <td>Среднее</td>\n",
       "      <td>1</td>\n",
       "      <td>женат / замужем</td>\n",
       "      <td>0</td>\n",
       "      <td>M</td>\n",
       "      <td>сотрудник</td>\n",
       "      <td>0</td>\n",
       "      <td>145885.952297</td>\n",
       "      <td>покупка жилья</td>\n",
       "    </tr>\n",
       "    <tr>\n",
       "      <th>3</th>\n",
       "      <td>3</td>\n",
       "      <td>-4124.747207</td>\n",
       "      <td>32</td>\n",
       "      <td>среднее</td>\n",
       "      <td>1</td>\n",
       "      <td>женат / замужем</td>\n",
       "      <td>0</td>\n",
       "      <td>M</td>\n",
       "      <td>сотрудник</td>\n",
       "      <td>0</td>\n",
       "      <td>267628.550329</td>\n",
       "      <td>дополнительное образование</td>\n",
       "    </tr>\n",
       "    <tr>\n",
       "      <th>4</th>\n",
       "      <td>0</td>\n",
       "      <td>340266.072047</td>\n",
       "      <td>53</td>\n",
       "      <td>среднее</td>\n",
       "      <td>1</td>\n",
       "      <td>гражданский брак</td>\n",
       "      <td>1</td>\n",
       "      <td>F</td>\n",
       "      <td>пенсионер</td>\n",
       "      <td>0</td>\n",
       "      <td>158616.077870</td>\n",
       "      <td>сыграть свадьбу</td>\n",
       "    </tr>\n",
       "    <tr>\n",
       "      <th>5</th>\n",
       "      <td>0</td>\n",
       "      <td>-926.185831</td>\n",
       "      <td>27</td>\n",
       "      <td>высшее</td>\n",
       "      <td>0</td>\n",
       "      <td>гражданский брак</td>\n",
       "      <td>1</td>\n",
       "      <td>M</td>\n",
       "      <td>компаньон</td>\n",
       "      <td>0</td>\n",
       "      <td>255763.565419</td>\n",
       "      <td>покупка жилья</td>\n",
       "    </tr>\n",
       "    <tr>\n",
       "      <th>6</th>\n",
       "      <td>0</td>\n",
       "      <td>-2879.202052</td>\n",
       "      <td>43</td>\n",
       "      <td>высшее</td>\n",
       "      <td>0</td>\n",
       "      <td>женат / замужем</td>\n",
       "      <td>0</td>\n",
       "      <td>F</td>\n",
       "      <td>компаньон</td>\n",
       "      <td>0</td>\n",
       "      <td>240525.971920</td>\n",
       "      <td>операции с жильем</td>\n",
       "    </tr>\n",
       "    <tr>\n",
       "      <th>7</th>\n",
       "      <td>0</td>\n",
       "      <td>-152.779569</td>\n",
       "      <td>50</td>\n",
       "      <td>СРЕДНЕЕ</td>\n",
       "      <td>1</td>\n",
       "      <td>женат / замужем</td>\n",
       "      <td>0</td>\n",
       "      <td>M</td>\n",
       "      <td>сотрудник</td>\n",
       "      <td>0</td>\n",
       "      <td>135823.934197</td>\n",
       "      <td>образование</td>\n",
       "    </tr>\n",
       "    <tr>\n",
       "      <th>8</th>\n",
       "      <td>2</td>\n",
       "      <td>-6929.865299</td>\n",
       "      <td>35</td>\n",
       "      <td>ВЫСШЕЕ</td>\n",
       "      <td>0</td>\n",
       "      <td>гражданский брак</td>\n",
       "      <td>1</td>\n",
       "      <td>F</td>\n",
       "      <td>сотрудник</td>\n",
       "      <td>0</td>\n",
       "      <td>95856.832424</td>\n",
       "      <td>на проведение свадьбы</td>\n",
       "    </tr>\n",
       "    <tr>\n",
       "      <th>9</th>\n",
       "      <td>0</td>\n",
       "      <td>-2188.756445</td>\n",
       "      <td>41</td>\n",
       "      <td>среднее</td>\n",
       "      <td>1</td>\n",
       "      <td>женат / замужем</td>\n",
       "      <td>0</td>\n",
       "      <td>M</td>\n",
       "      <td>сотрудник</td>\n",
       "      <td>0</td>\n",
       "      <td>144425.938277</td>\n",
       "      <td>покупка жилья для семьи</td>\n",
       "    </tr>\n",
       "    <tr>\n",
       "      <th>10</th>\n",
       "      <td>2</td>\n",
       "      <td>-4171.483647</td>\n",
       "      <td>36</td>\n",
       "      <td>высшее</td>\n",
       "      <td>0</td>\n",
       "      <td>женат / замужем</td>\n",
       "      <td>0</td>\n",
       "      <td>M</td>\n",
       "      <td>компаньон</td>\n",
       "      <td>0</td>\n",
       "      <td>113943.491460</td>\n",
       "      <td>покупка недвижимости</td>\n",
       "    </tr>\n",
       "    <tr>\n",
       "      <th>11</th>\n",
       "      <td>0</td>\n",
       "      <td>-792.701887</td>\n",
       "      <td>40</td>\n",
       "      <td>среднее</td>\n",
       "      <td>1</td>\n",
       "      <td>женат / замужем</td>\n",
       "      <td>0</td>\n",
       "      <td>F</td>\n",
       "      <td>сотрудник</td>\n",
       "      <td>0</td>\n",
       "      <td>77069.234271</td>\n",
       "      <td>покупка коммерческой недвижимости</td>\n",
       "    </tr>\n",
       "    <tr>\n",
       "      <th>12</th>\n",
       "      <td>0</td>\n",
       "      <td>NaN</td>\n",
       "      <td>65</td>\n",
       "      <td>среднее</td>\n",
       "      <td>1</td>\n",
       "      <td>гражданский брак</td>\n",
       "      <td>1</td>\n",
       "      <td>M</td>\n",
       "      <td>пенсионер</td>\n",
       "      <td>0</td>\n",
       "      <td>NaN</td>\n",
       "      <td>сыграть свадьбу</td>\n",
       "    </tr>\n",
       "    <tr>\n",
       "      <th>13</th>\n",
       "      <td>0</td>\n",
       "      <td>-1846.641941</td>\n",
       "      <td>54</td>\n",
       "      <td>неоконченное высшее</td>\n",
       "      <td>2</td>\n",
       "      <td>женат / замужем</td>\n",
       "      <td>0</td>\n",
       "      <td>F</td>\n",
       "      <td>сотрудник</td>\n",
       "      <td>0</td>\n",
       "      <td>130458.228857</td>\n",
       "      <td>приобретение автомобиля</td>\n",
       "    </tr>\n",
       "    <tr>\n",
       "      <th>14</th>\n",
       "      <td>0</td>\n",
       "      <td>-1844.956182</td>\n",
       "      <td>56</td>\n",
       "      <td>высшее</td>\n",
       "      <td>0</td>\n",
       "      <td>гражданский брак</td>\n",
       "      <td>1</td>\n",
       "      <td>F</td>\n",
       "      <td>компаньон</td>\n",
       "      <td>1</td>\n",
       "      <td>165127.911772</td>\n",
       "      <td>покупка жилой недвижимости</td>\n",
       "    </tr>\n",
       "    <tr>\n",
       "      <th>15</th>\n",
       "      <td>1</td>\n",
       "      <td>-972.364419</td>\n",
       "      <td>26</td>\n",
       "      <td>среднее</td>\n",
       "      <td>1</td>\n",
       "      <td>женат / замужем</td>\n",
       "      <td>0</td>\n",
       "      <td>F</td>\n",
       "      <td>сотрудник</td>\n",
       "      <td>0</td>\n",
       "      <td>116820.904450</td>\n",
       "      <td>строительство собственной недвижимости</td>\n",
       "    </tr>\n",
       "    <tr>\n",
       "      <th>16</th>\n",
       "      <td>0</td>\n",
       "      <td>-1719.934226</td>\n",
       "      <td>35</td>\n",
       "      <td>среднее</td>\n",
       "      <td>1</td>\n",
       "      <td>женат / замужем</td>\n",
       "      <td>0</td>\n",
       "      <td>F</td>\n",
       "      <td>сотрудник</td>\n",
       "      <td>0</td>\n",
       "      <td>289202.704229</td>\n",
       "      <td>недвижимость</td>\n",
       "    </tr>\n",
       "    <tr>\n",
       "      <th>17</th>\n",
       "      <td>0</td>\n",
       "      <td>-2369.999720</td>\n",
       "      <td>33</td>\n",
       "      <td>высшее</td>\n",
       "      <td>0</td>\n",
       "      <td>гражданский брак</td>\n",
       "      <td>1</td>\n",
       "      <td>M</td>\n",
       "      <td>сотрудник</td>\n",
       "      <td>0</td>\n",
       "      <td>90410.586745</td>\n",
       "      <td>строительство недвижимости</td>\n",
       "    </tr>\n",
       "    <tr>\n",
       "      <th>18</th>\n",
       "      <td>0</td>\n",
       "      <td>400281.136913</td>\n",
       "      <td>53</td>\n",
       "      <td>среднее</td>\n",
       "      <td>1</td>\n",
       "      <td>вдовец / вдова</td>\n",
       "      <td>2</td>\n",
       "      <td>F</td>\n",
       "      <td>пенсионер</td>\n",
       "      <td>0</td>\n",
       "      <td>56823.777243</td>\n",
       "      <td>на покупку подержанного автомобиля</td>\n",
       "    </tr>\n",
       "    <tr>\n",
       "      <th>19</th>\n",
       "      <td>0</td>\n",
       "      <td>-10038.818549</td>\n",
       "      <td>48</td>\n",
       "      <td>СРЕДНЕЕ</td>\n",
       "      <td>1</td>\n",
       "      <td>в разводе</td>\n",
       "      <td>3</td>\n",
       "      <td>F</td>\n",
       "      <td>сотрудник</td>\n",
       "      <td>0</td>\n",
       "      <td>242831.107982</td>\n",
       "      <td>на покупку своего автомобиля</td>\n",
       "    </tr>\n",
       "  </tbody>\n",
       "</table>\n",
       "</div>"
      ],
      "text/plain": [
       "    children  days_employed  dob_years            education  education_id  \\\n",
       "0          1   -8437.673028         42               высшее             0   \n",
       "1          1   -4024.803754         36              среднее             1   \n",
       "2          0   -5623.422610         33              Среднее             1   \n",
       "3          3   -4124.747207         32              среднее             1   \n",
       "4          0  340266.072047         53              среднее             1   \n",
       "5          0    -926.185831         27               высшее             0   \n",
       "6          0   -2879.202052         43               высшее             0   \n",
       "7          0    -152.779569         50              СРЕДНЕЕ             1   \n",
       "8          2   -6929.865299         35               ВЫСШЕЕ             0   \n",
       "9          0   -2188.756445         41              среднее             1   \n",
       "10         2   -4171.483647         36               высшее             0   \n",
       "11         0    -792.701887         40              среднее             1   \n",
       "12         0            NaN         65              среднее             1   \n",
       "13         0   -1846.641941         54  неоконченное высшее             2   \n",
       "14         0   -1844.956182         56               высшее             0   \n",
       "15         1    -972.364419         26              среднее             1   \n",
       "16         0   -1719.934226         35              среднее             1   \n",
       "17         0   -2369.999720         33               высшее             0   \n",
       "18         0  400281.136913         53              среднее             1   \n",
       "19         0  -10038.818549         48              СРЕДНЕЕ             1   \n",
       "\n",
       "       family_status  family_status_id gender income_type  debt  \\\n",
       "0    женат / замужем                 0      F   сотрудник     0   \n",
       "1    женат / замужем                 0      F   сотрудник     0   \n",
       "2    женат / замужем                 0      M   сотрудник     0   \n",
       "3    женат / замужем                 0      M   сотрудник     0   \n",
       "4   гражданский брак                 1      F   пенсионер     0   \n",
       "5   гражданский брак                 1      M   компаньон     0   \n",
       "6    женат / замужем                 0      F   компаньон     0   \n",
       "7    женат / замужем                 0      M   сотрудник     0   \n",
       "8   гражданский брак                 1      F   сотрудник     0   \n",
       "9    женат / замужем                 0      M   сотрудник     0   \n",
       "10   женат / замужем                 0      M   компаньон     0   \n",
       "11   женат / замужем                 0      F   сотрудник     0   \n",
       "12  гражданский брак                 1      M   пенсионер     0   \n",
       "13   женат / замужем                 0      F   сотрудник     0   \n",
       "14  гражданский брак                 1      F   компаньон     1   \n",
       "15   женат / замужем                 0      F   сотрудник     0   \n",
       "16   женат / замужем                 0      F   сотрудник     0   \n",
       "17  гражданский брак                 1      M   сотрудник     0   \n",
       "18    вдовец / вдова                 2      F   пенсионер     0   \n",
       "19         в разводе                 3      F   сотрудник     0   \n",
       "\n",
       "     total_income                                 purpose  \n",
       "0   253875.639453                           покупка жилья  \n",
       "1   112080.014102                 приобретение автомобиля  \n",
       "2   145885.952297                           покупка жилья  \n",
       "3   267628.550329              дополнительное образование  \n",
       "4   158616.077870                         сыграть свадьбу  \n",
       "5   255763.565419                           покупка жилья  \n",
       "6   240525.971920                       операции с жильем  \n",
       "7   135823.934197                             образование  \n",
       "8    95856.832424                   на проведение свадьбы  \n",
       "9   144425.938277                 покупка жилья для семьи  \n",
       "10  113943.491460                    покупка недвижимости  \n",
       "11   77069.234271       покупка коммерческой недвижимости  \n",
       "12            NaN                         сыграть свадьбу  \n",
       "13  130458.228857                 приобретение автомобиля  \n",
       "14  165127.911772              покупка жилой недвижимости  \n",
       "15  116820.904450  строительство собственной недвижимости  \n",
       "16  289202.704229                            недвижимость  \n",
       "17   90410.586745              строительство недвижимости  \n",
       "18   56823.777243      на покупку подержанного автомобиля  \n",
       "19  242831.107982            на покупку своего автомобиля  "
      ]
     },
     "execution_count": 5,
     "metadata": {},
     "output_type": "execute_result"
    }
   ],
   "source": [
    "data.head(20)"
   ]
  },
  {
   "cell_type": "markdown",
   "id": "1c12e233",
   "metadata": {
    "deletable": false,
    "id": "1c12e233"
   },
   "source": [
    "**Задание 3. Выведите основную информацию о датафрейме с помощью метода `info()`.**"
   ]
  },
  {
   "cell_type": "code",
   "execution_count": 6,
   "id": "2b757bca",
   "metadata": {
    "deletable": false,
    "id": "2b757bca",
    "outputId": "15376089-8dad-46c9-b520-c05248d43158"
   },
   "outputs": [
    {
     "name": "stdout",
     "output_type": "stream",
     "text": [
      "<class 'pandas.core.frame.DataFrame'>\n",
      "RangeIndex: 21525 entries, 0 to 21524\n",
      "Data columns (total 12 columns):\n",
      " #   Column            Non-Null Count  Dtype  \n",
      "---  ------            --------------  -----  \n",
      " 0   children          21525 non-null  int64  \n",
      " 1   days_employed     19351 non-null  float64\n",
      " 2   dob_years         21525 non-null  int64  \n",
      " 3   education         21525 non-null  object \n",
      " 4   education_id      21525 non-null  int64  \n",
      " 5   family_status     21525 non-null  object \n",
      " 6   family_status_id  21525 non-null  int64  \n",
      " 7   gender            21525 non-null  object \n",
      " 8   income_type       21525 non-null  object \n",
      " 9   debt              21525 non-null  int64  \n",
      " 10  total_income      19351 non-null  float64\n",
      " 11  purpose           21525 non-null  object \n",
      "dtypes: float64(2), int64(5), object(5)\n",
      "memory usage: 2.0+ MB\n"
     ]
    }
   ],
   "source": [
    "data.info()"
   ]
  },
  {
   "cell_type": "markdown",
   "id": "333ec665",
   "metadata": {
    "deletable": false,
    "id": "333ec665"
   },
   "source": [
    "## Предобработка данных"
   ]
  },
  {
   "cell_type": "markdown",
   "id": "02d92d53",
   "metadata": {
    "deletable": false,
    "id": "02d92d53"
   },
   "source": [
    "### Удаление пропусков"
   ]
  },
  {
   "cell_type": "markdown",
   "id": "cd84967c",
   "metadata": {
    "deletable": false,
    "id": "cd84967c"
   },
   "source": [
    "**Задание 4. Выведите количество пропущенных значений для каждого столбца. Используйте комбинацию двух методов.**"
   ]
  },
  {
   "cell_type": "code",
   "execution_count": 7,
   "id": "7f9b2309",
   "metadata": {
    "deletable": false,
    "id": "7f9b2309",
    "outputId": "81f4d817-781c-465c-ed15-91ce4446810d"
   },
   "outputs": [
    {
     "data": {
      "text/plain": [
       "children               0\n",
       "days_employed       2174\n",
       "dob_years              0\n",
       "education              0\n",
       "education_id           0\n",
       "family_status          0\n",
       "family_status_id       0\n",
       "gender                 0\n",
       "income_type            0\n",
       "debt                   0\n",
       "total_income        2174\n",
       "purpose                0\n",
       "dtype: int64"
      ]
     },
     "execution_count": 7,
     "metadata": {},
     "output_type": "execute_result"
    }
   ],
   "source": [
    "data.isna().sum()"
   ]
  },
  {
   "cell_type": "markdown",
   "id": "db86e27b",
   "metadata": {
    "deletable": false,
    "id": "db86e27b"
   },
   "source": [
    "**Задание 5. В двух столбцах есть пропущенные значения. Один из них — `days_employed`. Пропуски в этом столбце вы обработаете на следующем этапе. Другой столбец с пропущенными значениями — `total_income` — хранит данные о доходах. На сумму дохода сильнее всего влияет тип занятости, поэтому заполнить пропуски в этом столбце нужно медианным значением по каждому типу из столбца `income_type`. Например, у человека с типом занятости `сотрудник` пропуск в столбце `total_income` должен быть заполнен медианным доходом среди всех записей с тем же типом.**"
   ]
  },
  {
   "cell_type": "code",
   "execution_count": 8,
   "id": "42006a93",
   "metadata": {
    "deletable": false,
    "id": "42006a93"
   },
   "outputs": [],
   "source": [
    "for t in data['income_type'].unique():\n",
    "    data.loc[(data['income_type'] == t) & (data['total_income'].isna()), 'total_income'] = \\\n",
    "    data.loc[(data['income_type'] == t), 'total_income'].median()"
   ]
  },
  {
   "cell_type": "markdown",
   "id": "89da5ece",
   "metadata": {
    "deletable": false,
    "id": "89da5ece"
   },
   "source": [
    "### Обработка аномальных значений"
   ]
  },
  {
   "cell_type": "markdown",
   "id": "57964554",
   "metadata": {
    "deletable": false,
    "id": "57964554"
   },
   "source": [
    "**Задание 6. В данных могут встречаться артефакты (аномалии) — значения, которые не отражают действительность и появились по какой-то ошибке. таким артефактом будет отрицательное количество дней трудового стажа в столбце `days_employed`. Для реальных данных это нормально. Обработайте значения в этом столбце: замените все отрицательные значения положительными с помощью метода `abs()`.**"
   ]
  },
  {
   "cell_type": "code",
   "execution_count": 9,
   "id": "f6f055bf",
   "metadata": {
    "deletable": false,
    "id": "f6f055bf"
   },
   "outputs": [],
   "source": [
    "data['days_employed'] = data['days_employed'].abs()"
   ]
  },
  {
   "cell_type": "markdown",
   "id": "6107dd2f",
   "metadata": {
    "deletable": false,
    "id": "6107dd2f"
   },
   "source": [
    "**Задание 7. Для каждого типа занятости выведите медианное значение трудового стажа `days_employed` в днях.**"
   ]
  },
  {
   "cell_type": "code",
   "execution_count": 10,
   "id": "85a5faf6",
   "metadata": {
    "deletable": false,
    "id": "85a5faf6",
    "outputId": "801ef80e-522b-4668-f34e-565af7432bcf"
   },
   "outputs": [
    {
     "data": {
      "text/plain": [
       "income_type\n",
       "безработный        366413.652744\n",
       "в декрете            3296.759962\n",
       "госслужащий          2689.368353\n",
       "компаньон            1547.382223\n",
       "пенсионер          365213.306266\n",
       "предприниматель       520.848083\n",
       "сотрудник            1574.202821\n",
       "студент               578.751554\n",
       "Name: days_employed, dtype: float64"
      ]
     },
     "execution_count": 10,
     "metadata": {},
     "output_type": "execute_result"
    }
   ],
   "source": [
    "data.groupby('income_type')['days_employed'].agg('median')"
   ]
  },
  {
   "cell_type": "markdown",
   "id": "38d1a030",
   "metadata": {
    "deletable": false,
    "id": "38d1a030"
   },
   "source": [
    "У двух типов (безработные и пенсионеры) получатся аномально большие значения. Исправить такие значения сложно, поэтому оставьте их как есть. Тем более этот столбец не понадобится вам для исследования."
   ]
  },
  {
   "cell_type": "markdown",
   "id": "d8a9f147",
   "metadata": {
    "deletable": false,
    "id": "d8a9f147"
   },
   "source": [
    "**Задание 8. Выведите перечень уникальных значений столбца `children`.**"
   ]
  },
  {
   "cell_type": "code",
   "execution_count": 11,
   "id": "ef5056eb",
   "metadata": {
    "deletable": false,
    "id": "ef5056eb",
    "outputId": "6975b15c-7f95-4697-d16d-a0c79b657b03"
   },
   "outputs": [
    {
     "ename": "SyntaxError",
     "evalue": "invalid syntax (2955374922.py, line 1)",
     "output_type": "error",
     "traceback": [
      "\u001b[1;36m  Input \u001b[1;32mIn [11]\u001b[1;36m\u001b[0m\n\u001b[1;33m    data['children'].unique()вв\u001b[0m\n\u001b[1;37m                             ^\u001b[0m\n\u001b[1;31mSyntaxError\u001b[0m\u001b[1;31m:\u001b[0m invalid syntax\n"
     ]
    }
   ],
   "source": [
    "data['children'].unique()вв"
   ]
  },
  {
   "cell_type": "markdown",
   "id": "40b9ebf2",
   "metadata": {
    "deletable": false,
    "id": "40b9ebf2"
   },
   "source": [
    "**Задание 9. В столбце `children` есть два аномальных значения. Удалите строки, в которых встречаются такие аномальные значения из датафрейма `data`.**"
   ]
  },
  {
   "cell_type": "code",
   "execution_count": 12,
   "id": "3ff9801d",
   "metadata": {
    "deletable": false,
    "id": "3ff9801d"
   },
   "outputs": [],
   "source": [
    "data = data[(data['children'] != -1) & (data['children'] != 20)]"
   ]
  },
  {
   "cell_type": "markdown",
   "id": "bbc4d0ce",
   "metadata": {
    "deletable": false,
    "id": "bbc4d0ce"
   },
   "source": [
    "**Задание 10. Ещё раз выведите перечень уникальных значений столбца `children`, чтобы убедиться, что артефакты удалены.**"
   ]
  },
  {
   "cell_type": "code",
   "execution_count": 13,
   "id": "ad4fa8b7",
   "metadata": {
    "deletable": false,
    "id": "ad4fa8b7",
    "outputId": "b2097101-d49d-44d9-901b-32a65c9463d1"
   },
   "outputs": [
    {
     "data": {
      "text/plain": [
       "array([1, 0, 3, 2, 4, 5], dtype=int64)"
      ]
     },
     "execution_count": 13,
     "metadata": {},
     "output_type": "execute_result"
    }
   ],
   "source": [
    "data['children'].unique()"
   ]
  },
  {
   "cell_type": "markdown",
   "id": "75440b63",
   "metadata": {
    "deletable": false,
    "id": "75440b63"
   },
   "source": [
    "### Удаление пропусков (продолжение)"
   ]
  },
  {
   "cell_type": "markdown",
   "id": "f4ea573f",
   "metadata": {
    "deletable": false,
    "id": "f4ea573f"
   },
   "source": [
    "**Задание 11. Заполните пропуски в столбце `days_employed` медианными значениями по каждого типа занятости `income_type`.**"
   ]
  },
  {
   "cell_type": "code",
   "execution_count": 14,
   "id": "af6b1a7e",
   "metadata": {
    "deletable": false,
    "id": "af6b1a7e"
   },
   "outputs": [],
   "source": [
    "for t in data['income_type'].unique():\n",
    "    data.loc[(data['income_type'] == t) & (data['days_employed'].isna()), 'days_employed'] = \\\n",
    "    data.loc[(data['income_type'] == t), 'days_employed'].median()"
   ]
  },
  {
   "cell_type": "markdown",
   "id": "2753f40d",
   "metadata": {
    "deletable": false,
    "id": "2753f40d"
   },
   "source": [
    "**Задание 12. Убедитесь, что все пропуски заполнены. Проверьте себя и ещё раз выведите количество пропущенных значений для каждого столбца с помощью двух методов.**"
   ]
  },
  {
   "cell_type": "code",
   "execution_count": 15,
   "id": "55f78bc2",
   "metadata": {
    "deletable": false,
    "id": "55f78bc2",
    "outputId": "8da1e4e1-358e-4e87-98c9-f261bce0a7b2"
   },
   "outputs": [
    {
     "data": {
      "text/plain": [
       "children            0\n",
       "days_employed       0\n",
       "dob_years           0\n",
       "education           0\n",
       "education_id        0\n",
       "family_status       0\n",
       "family_status_id    0\n",
       "gender              0\n",
       "income_type         0\n",
       "debt                0\n",
       "total_income        0\n",
       "purpose             0\n",
       "dtype: int64"
      ]
     },
     "execution_count": 15,
     "metadata": {},
     "output_type": "execute_result"
    }
   ],
   "source": [
    "data.isna().sum()"
   ]
  },
  {
   "cell_type": "markdown",
   "id": "ddc81e43",
   "metadata": {
    "deletable": false,
    "id": "ddc81e43"
   },
   "source": [
    "### Изменение типов данных"
   ]
  },
  {
   "cell_type": "markdown",
   "id": "42d19d24",
   "metadata": {
    "deletable": false,
    "id": "42d19d24"
   },
   "source": [
    "**Задание 13. Замените вещественный тип данных в столбце `total_income` на целочисленный с помощью метода `astype()`.**"
   ]
  },
  {
   "cell_type": "code",
   "execution_count": 16,
   "id": "920b65ad",
   "metadata": {
    "deletable": false,
    "id": "920b65ad"
   },
   "outputs": [
    {
     "name": "stderr",
     "output_type": "stream",
     "text": [
      "C:\\Users\\klyuchevenko.e\\AppData\\Local\\Temp\\ipykernel_8892\\1002644910.py:1: SettingWithCopyWarning: \n",
      "A value is trying to be set on a copy of a slice from a DataFrame.\n",
      "Try using .loc[row_indexer,col_indexer] = value instead\n",
      "\n",
      "See the caveats in the documentation: https://pandas.pydata.org/pandas-docs/stable/user_guide/indexing.html#returning-a-view-versus-a-copy\n",
      "  data['total_income'] = data['total_income'].astype(int)\n"
     ]
    }
   ],
   "source": [
    "data['total_income'] = data['total_income'].astype(int)"
   ]
  },
  {
   "cell_type": "markdown",
   "id": "80c420ba",
   "metadata": {
    "deletable": false,
    "id": "80c420ba"
   },
   "source": [
    "### Обработка дубликатов"
   ]
  },
  {
   "cell_type": "markdown",
   "id": "dc587695",
   "metadata": {
    "deletable": false,
    "id": "dc587695"
   },
   "source": [
    "**Задание 14. Выведите на экран количество строк-дубликатов в данных. Если такие строки присутствуют, удалите их.**"
   ]
  },
  {
   "cell_type": "code",
   "execution_count": 17,
   "id": "3ee445e4",
   "metadata": {
    "deletable": false,
    "id": "3ee445e4",
    "outputId": "9684deba-1934-42d1-99e1-cda61740f822"
   },
   "outputs": [
    {
     "data": {
      "text/plain": [
       "54"
      ]
     },
     "execution_count": 17,
     "metadata": {},
     "output_type": "execute_result"
    }
   ],
   "source": [
    "data.duplicated().sum()"
   ]
  },
  {
   "cell_type": "code",
   "execution_count": 18,
   "id": "8575fe05",
   "metadata": {
    "deletable": false,
    "id": "8575fe05"
   },
   "outputs": [],
   "source": [
    "data = data.drop_duplicates()"
   ]
  },
  {
   "cell_type": "markdown",
   "id": "9771a76c",
   "metadata": {
    "deletable": false,
    "id": "9771a76c"
   },
   "source": [
    "**Задание 15. Обработайте неявные дубликаты в столбце `education`. В этом столбце есть одни и те же значения, но записанные по-разному: с использованием заглавных и строчных букв. Приведите их к нижнему регистру. Проверьте остальные столбцы.**"
   ]
  },
  {
   "cell_type": "code",
   "execution_count": 19,
   "id": "a9f8e2bf",
   "metadata": {
    "deletable": false,
    "id": "a9f8e2bf"
   },
   "outputs": [],
   "source": [
    "data['education'] = data['education'].str.lower()"
   ]
  },
  {
   "cell_type": "markdown",
   "id": "9904cf55",
   "metadata": {
    "deletable": false,
    "id": "9904cf55"
   },
   "source": [
    "### Категоризация данных"
   ]
  },
  {
   "cell_type": "markdown",
   "id": "72fcc8a2",
   "metadata": {
    "deletable": false,
    "id": "72fcc8a2"
   },
   "source": [
    "**Задание 16. На основании диапазонов, указанных ниже, создайте в датафрейме `data` столбец `total_income_category` с категориями:**\n",
    "\n",
    "- 0–30000 — `'E'`;\n",
    "- 30001–50000 — `'D'`;\n",
    "- 50001–200000 — `'C'`;\n",
    "- 200001–1000000 — `'B'`;\n",
    "- 1000001 и выше — `'A'`.\n",
    "\n",
    "\n",
    "**Например, кредитополучателю с доходом 25000 нужно назначить категорию `'E'`, а клиенту, получающему 235000, — `'B'`. Используйте собственную функцию с именем `categorize_income()` и метод `apply()`.**"
   ]
  },
  {
   "cell_type": "code",
   "execution_count": 20,
   "id": "e1771346",
   "metadata": {
    "deletable": false,
    "id": "e1771346"
   },
   "outputs": [],
   "source": [
    "def categorize_income(income):\n",
    "    try:\n",
    "        if 0 <= income <= 30000:\n",
    "            return 'E'\n",
    "        elif 30001 <= income <= 50000:\n",
    "            return 'D'\n",
    "        elif 50001 <= income <= 200000:\n",
    "            return 'C'\n",
    "        elif 200001 <= income <= 1000000:\n",
    "            return 'B'\n",
    "        elif income >= 1000001:\n",
    "            return 'A'\n",
    "    except:\n",
    "        pass"
   ]
  },
  {
   "cell_type": "code",
   "execution_count": 21,
   "id": "d5f3586d",
   "metadata": {
    "deletable": false,
    "id": "d5f3586d"
   },
   "outputs": [],
   "source": [
    "data['total_income_category'] = data['total_income'].apply(categorize_income)"
   ]
  },
  {
   "cell_type": "markdown",
   "id": "dde49b5c",
   "metadata": {
    "deletable": false,
    "id": "dde49b5c"
   },
   "source": [
    "**Задание 17. Выведите на экран перечень уникальных целей взятия кредита из столбца `purpose`.**"
   ]
  },
  {
   "cell_type": "code",
   "execution_count": 22,
   "id": "f67ce9b3",
   "metadata": {
    "deletable": false,
    "id": "f67ce9b3",
    "outputId": "673c12d9-7d7e-4ae0-9812-c622c89dd244"
   },
   "outputs": [
    {
     "data": {
      "text/plain": [
       "array(['покупка жилья', 'приобретение автомобиля',\n",
       "       'дополнительное образование', 'сыграть свадьбу',\n",
       "       'операции с жильем', 'образование', 'на проведение свадьбы',\n",
       "       'покупка жилья для семьи', 'покупка недвижимости',\n",
       "       'покупка коммерческой недвижимости', 'покупка жилой недвижимости',\n",
       "       'строительство собственной недвижимости', 'недвижимость',\n",
       "       'строительство недвижимости', 'на покупку подержанного автомобиля',\n",
       "       'на покупку своего автомобиля',\n",
       "       'операции с коммерческой недвижимостью',\n",
       "       'строительство жилой недвижимости', 'жилье',\n",
       "       'операции со своей недвижимостью', 'автомобили',\n",
       "       'заняться образованием', 'сделка с подержанным автомобилем',\n",
       "       'получение образования', 'автомобиль', 'свадьба',\n",
       "       'получение дополнительного образования', 'покупка своего жилья',\n",
       "       'операции с недвижимостью', 'получение высшего образования',\n",
       "       'свой автомобиль', 'сделка с автомобилем',\n",
       "       'профильное образование', 'высшее образование',\n",
       "       'покупка жилья для сдачи', 'на покупку автомобиля', 'ремонт жилью',\n",
       "       'заняться высшим образованием'], dtype=object)"
      ]
     },
     "execution_count": 22,
     "metadata": {},
     "output_type": "execute_result"
    }
   ],
   "source": [
    "data['purpose'].unique()"
   ]
  },
  {
   "cell_type": "markdown",
   "id": "85d0aef0",
   "metadata": {
    "deletable": false,
    "id": "85d0aef0"
   },
   "source": [
    "**Задание 18. Создайте функцию, которая на основании данных из столбца `purpose` сформирует новый столбец `purpose_category`, в который войдут следующие категории:**\n",
    "\n",
    "- `'операции с автомобилем'`,\n",
    "- `'операции с недвижимостью'`,\n",
    "- `'проведение свадьбы'`,\n",
    "- `'получение образования'`.\n",
    "\n",
    "**Например, если в столбце `purpose` находится подстрока `'на покупку автомобиля'`, то в столбце `purpose_category` должна появиться строка `'операции с автомобилем'`.**\n",
    "\n",
    "**Используйте собственную функцию с именем `categorize_purpose()` и метод `apply()`. Изучите данные в столбце `purpose` и определите, какие подстроки помогут вам правильно определить категорию.**"
   ]
  },
  {
   "cell_type": "code",
   "execution_count": 23,
   "id": "e149fab4",
   "metadata": {
    "deletable": false,
    "id": "e149fab4"
   },
   "outputs": [],
   "source": [
    "def categorize_purpose(row):\n",
    "    try:\n",
    "        if 'автом' in row:\n",
    "            return 'операции с автомобилем'\n",
    "        elif 'жил' in row or 'недвиж' in row:\n",
    "            return 'операции с недвижимостью'\n",
    "        elif 'свад' in row:\n",
    "            return 'проведение свадьбы'\n",
    "        elif 'образов' in row:\n",
    "            return 'получение образования'\n",
    "    except:\n",
    "        return 'нет категории'"
   ]
  },
  {
   "cell_type": "code",
   "execution_count": 24,
   "id": "bf36e69b",
   "metadata": {
    "deletable": false,
    "id": "bf36e69b"
   },
   "outputs": [],
   "source": [
    "data['purpose_category'] = data['purpose'].apply(categorize_purpose)"
   ]
  },
  {
   "cell_type": "markdown",
   "id": "09b242bf",
   "metadata": {
    "deletable": false,
    "editable": false,
    "id": "09b242bf"
   },
   "source": [
    "## Исследуйте данные и ответьте на вопросы"
   ]
  },
  {
   "cell_type": "markdown",
   "id": "6471573b",
   "metadata": {
    "editable": false,
    "id": "c5d66278"
   },
   "source": [
    "**Задание 19. Есть ли зависимость между количеством детей и возвратом кредита в срок?**"
   ]
  },
  {
   "cell_type": "markdown",
   "id": "c5d66278",
   "metadata": {
    "deletable": false,
    "editable": false,
    "id": "c5d66278"
   },
   "source": [
    "**Задание 19. Есть ли зависимость между количеством детей и возвратом кредита в срок?**"
   ]
  },
  {
   "cell_type": "markdown",
   "id": "0d5afb9e",
   "metadata": {},
   "source": [
    "Сгруппируем данные по количеству детей и вычислим среднее значение просрочивших платежи в каждой из групп"
   ]
  },
  {
   "cell_type": "code",
   "execution_count": 25,
   "id": "2cacfc4a",
   "metadata": {
    "id": "2cacfc4a",
    "scrolled": false
   },
   "outputs": [
    {
     "name": "stdout",
     "output_type": "stream",
     "text": [
      "          debt                 \n",
      "           sum  count      mean\n",
      "children                       \n",
      "0         1063  14107  0.075353\n",
      "1          444   4809  0.092327\n",
      "2          194   2052  0.094542\n",
      "3           27    330  0.081818\n",
      "4            4     41  0.097561\n",
      "5            0      9  0.000000\n"
     ]
    }
   ],
   "source": [
    "print(data.groupby('children').agg({'debt': ['sum', 'count', 'mean']})) "
   ]
  },
  {
   "cell_type": "markdown",
   "id": "3a6b99ec",
   "metadata": {
    "deletable": false,
    "id": "3a6b99ec"
   },
   "source": [
    "**Вывод:** Наиболее низкий показатель просрочек у кредиторов без детей - всего 7.5% просрочивших из выборки по группе. При этом, кредиторы, имеющие хотя бы одного ребенка возвращают примерно с одинаковым успехом - 8-9.7%. Самый большой процент просрочивших платежи в группе с четерымя детьми - 9,7% из выборки по группе. При этом, обладатели пяти детей все платили вовремя, однако, в этой группе слишком мало данных (всего девять кредиторов) и считать ее репрезентативной нельзя. "
   ]
  },
  {
   "cell_type": "markdown",
   "id": "97be82ca",
   "metadata": {
    "deletable": false,
    "editable": false,
    "id": "97be82ca"
   },
   "source": [
    "**Задание 20. Есть ли зависимость между семейным положением и возвратом кредита в срок?**"
   ]
  },
  {
   "cell_type": "markdown",
   "id": "37a259f5",
   "metadata": {},
   "source": [
    "Сгруппируем данные по семейному положению и вычислим среднее значение просрочивших платежи в каждой из групп"
   ]
  },
  {
   "cell_type": "code",
   "execution_count": 26,
   "id": "dc3f7ee8",
   "metadata": {
    "id": "dc3f7ee8",
    "scrolled": true
   },
   "outputs": [
    {
     "name": "stdout",
     "output_type": "stream",
     "text": [
      "                      debt                 \n",
      "                       sum  count      mean\n",
      "family_status                              \n",
      "Не женат / не замужем  273   2796  0.097639\n",
      "в разводе               84   1189  0.070648\n",
      "вдовец / вдова          63    951  0.066246\n",
      "гражданский брак       385   4146  0.092861\n",
      "женат / замужем        927  12266  0.075575\n"
     ]
    }
   ],
   "source": [
    "print(data.groupby('family_status').agg({'debt': ['sum', 'count', 'mean']})) "
   ]
  },
  {
   "cell_type": "markdown",
   "id": "1cef7837",
   "metadata": {
    "deletable": false,
    "id": "1cef7837"
   },
   "source": [
    "**Вывод:** Самые низкие показатели просрочек наблюдаются в группе \"вдова / вдовец\" - всего 6,6% просрочивших из выборки по группе. На втором месте разведенные кредиторы - это 7% просрочивших из выборки по группе. Самый высокий процент просрочек (9.7%) у замужних и женатых кредиторов. "
   ]
  },
  {
   "cell_type": "markdown",
   "id": "1e8b2fca",
   "metadata": {
    "deletable": false,
    "editable": false,
    "id": "1e8b2fca"
   },
   "source": [
    "**Задание 21. Есть ли зависимость между уровнем дохода и возвратом кредита в срок?**"
   ]
  },
  {
   "cell_type": "markdown",
   "id": "58aba8d2",
   "metadata": {},
   "source": [
    "Сгруппируем данные по уровню дохода через ранее обозначенные группы A-E, и вычислим среднее значение просрочивших платежи в каждой из групп"
   ]
  },
  {
   "cell_type": "code",
   "execution_count": 27,
   "id": "cd7e3720",
   "metadata": {
    "id": "cd7e3720"
   },
   "outputs": [
    {
     "name": "stdout",
     "output_type": "stream",
     "text": [
      "                       debt                 \n",
      "                        sum  count      mean\n",
      "total_income_category                       \n",
      "A                         2     25  0.080000\n",
      "B                       354   5014  0.070602\n",
      "C                      1353  15938  0.084891\n",
      "D                        21    349  0.060172\n",
      "E                         2     22  0.090909\n"
     ]
    }
   ],
   "source": [
    "print(data.groupby('total_income_category').agg({'debt': ['sum', 'count', 'mean']})) "
   ]
  },
  {
   "cell_type": "markdown",
   "id": "e8593def",
   "metadata": {
    "deletable": false,
    "id": "e8593def"
   },
   "source": [
    "**Вывод:** Наилучшие показатели по возвратам в группе D, т.е. с доходом от 30 до 50 тысяч рублей - всего 7% из выборки по группе, по сравнению с группой E, с доходом до 30 тысяч, где просрочки самые частые - на уровне 9%  из выборки по группе.  "
   ]
  },
  {
   "cell_type": "markdown",
   "id": "99ecbd1f",
   "metadata": {
    "deletable": false,
    "editable": false,
    "id": "99ecbd1f"
   },
   "source": [
    "**Задание 22. Как разные цели кредита влияют на его возврат в срок?**"
   ]
  },
  {
   "cell_type": "markdown",
   "id": "52661999",
   "metadata": {},
   "source": [
    "Сгруппируем данные по целям кредитования и вычислим среднее значение просрочивших платежи в каждой из групп"
   ]
  },
  {
   "cell_type": "code",
   "execution_count": 28,
   "id": "2b687290",
   "metadata": {
    "id": "2b687290",
    "scrolled": true
   },
   "outputs": [
    {
     "name": "stdout",
     "output_type": "stream",
     "text": [
      "                         debt                 \n",
      "                          sum  count      mean\n",
      "purpose_category                              \n",
      "операции с автомобилем    400   4281  0.093436\n",
      "операции с недвижимостью  780  10754  0.072531\n",
      "получение образования     369   3989  0.092504\n",
      "проведение свадьбы        183   2324  0.078744\n"
     ]
    }
   ],
   "source": [
    "print(data.groupby('purpose_category').agg({'debt': ['sum', 'count', 'mean']})) "
   ]
  },
  {
   "cell_type": "markdown",
   "id": "b4bb2ce6",
   "metadata": {
    "deletable": false,
    "id": "b4bb2ce6"
   },
   "source": [
    "**Вывод:** Чаще в срок платят те, кто берет кредит на свадьбу(7,8%  из выборки по группе) и операции с недвижимостью(7,2%  из выборки по группе) - разница с процентом просрочивших платеж по кредитам на образование и недвижимость более 2%. Хуже всего платят автомобилисты - 9.3%  из выборки по группе. "
   ]
  },
  {
   "cell_type": "markdown",
   "id": "09c3ac4c",
   "metadata": {
    "deletable": false,
    "editable": false,
    "id": "09c3ac4c"
   },
   "source": [
    "**Задание 23. Приведите возможные причины появления пропусков в исходных данных.**"
   ]
  },
  {
   "cell_type": "markdown",
   "id": "9da2ceda",
   "metadata": {
    "deletable": false,
    "id": "9da2ceda"
   },
   "source": [
    "*Ответ:* Пропуски есть только в двух столбцах - доход и трудоваой стаж, причем количество пропущенных значений одинаково в обоих. Можно предположить, что пропуски связаны с ошибками выгрузки. Вариант с нузаполненными значениями кредитором можно исключить, т.к. пропущенные данные, вероятнее всего обязательны при оформлении кредита.\n"
   ]
  },
  {
   "cell_type": "markdown",
   "id": "7b0487d6",
   "metadata": {
    "deletable": false,
    "editable": false,
    "id": "7b0487d6"
   },
   "source": [
    "**Задание 24. Объясните, почему заполнить пропуски медианным значением — лучшее решение для количественных переменных.**"
   ]
  },
  {
   "cell_type": "markdown",
   "id": "7ecf2b8e",
   "metadata": {
    "deletable": false,
    "id": "7ecf2b8e"
   },
   "source": [
    "*Ответ:* Средние значения в выборке могут смещаться в сторону потенциальных выбросов данных (пиковых значений) и тем самым давать некорректный результат при анализе. "
   ]
  },
  {
   "cell_type": "markdown",
   "id": "6db5255a",
   "metadata": {
    "deletable": false,
    "editable": false,
    "id": "6db5255a"
   },
   "source": [
    "## Общий вывод."
   ]
  },
  {
   "cell_type": "markdown",
   "id": "bad65432",
   "metadata": {
    "id": "bad65432"
   },
   "source": [
    "Выборки данных достаточно для принятия решений о выделении благонадежных плательщиков. Как было определено, наиболее высокая вероятность возврата кредита в срок у ранее состоявших в браке кредиторов не имеющих детей, имеющих доход 30-50 тысяч рублей с целями по кредиту, связанными с недвижимостью и свадьбой. "
   ]
  },
  {
   "cell_type": "markdown",
   "id": "387ffddc",
   "metadata": {},
   "source": [
    "Объявим переменную, в которую поместим датафрейм всех кредиторов удовлетворяющих выделенным критериям. Далее, определим дополнительные характерные критерии для выделенной группы кредиторов"
   ]
  },
  {
   "cell_type": "code",
   "execution_count": 29,
   "id": "c29629c2",
   "metadata": {},
   "outputs": [],
   "source": [
    "short_list = (\n",
    "    data[(data['children'] == 0) &\n",
    "         ((data['family_status'] == 'вдовец / вдова') |\n",
    "          (data['family_status'] == 'в разводе')) &\n",
    "         (data['total_income_category'] == 'D') &\n",
    "         ((data['purpose_category'] == 'проведение свадьбы') |\n",
    "          (data['purpose_category'] == 'операции с недвижимостью'))])"
   ]
  },
  {
   "cell_type": "markdown",
   "id": "3c39be62",
   "metadata": {},
   "source": [
    "проаналиируем выборку по гендорному признаку"
   ]
  },
  {
   "cell_type": "code",
   "execution_count": 30,
   "id": "b5243d8b",
   "metadata": {},
   "outputs": [
    {
     "data": {
      "text/plain": [
       "gender\n",
       "F    16\n",
       "Name: count, dtype: int64"
      ]
     },
     "execution_count": 30,
     "metadata": {},
     "output_type": "execute_result"
    }
   ],
   "source": [
    "short_list['gender'].value_counts() "
   ]
  },
  {
   "cell_type": "markdown",
   "id": "43e16825",
   "metadata": {},
   "source": [
    " проаналиируем выборку по типу занятости"
   ]
  },
  {
   "cell_type": "code",
   "execution_count": 31,
   "id": "80e2d089",
   "metadata": {},
   "outputs": [
    {
     "data": {
      "text/plain": [
       "income_type\n",
       "пенсионер    15\n",
       "сотрудник     1\n",
       "Name: count, dtype: int64"
      ]
     },
     "execution_count": 31,
     "metadata": {},
     "output_type": "execute_result"
    }
   ],
   "source": [
    "short_list['income_type'].value_counts() "
   ]
  },
  {
   "cell_type": "markdown",
   "id": "39e3b16d",
   "metadata": {},
   "source": [
    "определим средний возраст в выборке"
   ]
  },
  {
   "cell_type": "code",
   "execution_count": 32,
   "id": "251cea98",
   "metadata": {},
   "outputs": [
    {
     "data": {
      "text/plain": [
       "59.0625"
      ]
     },
     "execution_count": 32,
     "metadata": {},
     "output_type": "execute_result"
    }
   ],
   "source": [
    "short_list['dob_years'].mean() "
   ]
  },
  {
   "cell_type": "markdown",
   "id": "954deaeb",
   "metadata": {},
   "source": [
    "проаналиируем выборку по образованию кредитора"
   ]
  },
  {
   "cell_type": "code",
   "execution_count": 33,
   "id": "7cfcbdbd",
   "metadata": {
    "scrolled": true
   },
   "outputs": [
    {
     "data": {
      "text/plain": [
       "education\n",
       "среднее      14\n",
       "начальное     1\n",
       "высшее        1\n",
       "Name: count, dtype: int64"
      ]
     },
     "execution_count": 33,
     "metadata": {},
     "output_type": "execute_result"
    }
   ],
   "source": [
    "short_list['education'].value_counts()"
   ]
  },
  {
   "cell_type": "markdown",
   "id": "e53b41e4",
   "metadata": {
    "id": "bad65432"
   },
   "source": [
    "Итак, в финальную выборку попало 16ть кредиторов. После дополнительного анализа, можно сказать, что выбранным критериям соответствуют исключительно женщины со средним возрастом 59 лет, преимущественно пенсионеры, получившие среднее образование.  "
   ]
  }
 ],
 "metadata": {
  "ExecuteTimeLog": [
   {
    "duration": 549,
    "start_time": "2022-06-26T20:40:05.265Z"
   },
   {
    "duration": 28,
    "start_time": "2022-06-26T20:40:05.816Z"
   },
   {
    "duration": 29,
    "start_time": "2022-06-26T20:40:05.847Z"
   },
   {
    "duration": 13,
    "start_time": "2022-06-26T20:40:05.877Z"
   },
   {
    "duration": 67,
    "start_time": "2022-06-26T20:40:05.893Z"
   },
   {
    "duration": 4,
    "start_time": "2022-06-26T20:40:05.961Z"
   },
   {
    "duration": 18,
    "start_time": "2022-06-26T20:40:05.967Z"
   },
   {
    "duration": 22,
    "start_time": "2022-06-26T20:40:05.987Z"
   },
   {
    "duration": 14,
    "start_time": "2022-06-26T20:40:06.013Z"
   },
   {
    "duration": 6,
    "start_time": "2022-06-26T20:40:06.030Z"
   },
   {
    "duration": 46,
    "start_time": "2022-06-26T20:40:06.037Z"
   },
   {
    "duration": 13,
    "start_time": "2022-06-26T20:40:06.085Z"
   },
   {
    "duration": 28,
    "start_time": "2022-06-26T20:40:06.100Z"
   },
   {
    "duration": 30,
    "start_time": "2022-06-26T20:40:06.130Z"
   },
   {
    "duration": 20,
    "start_time": "2022-06-26T20:40:06.161Z"
   },
   {
    "duration": 21,
    "start_time": "2022-06-26T20:40:06.183Z"
   },
   {
    "duration": 11,
    "start_time": "2022-06-26T20:40:06.206Z"
   },
   {
    "duration": 19,
    "start_time": "2022-06-26T20:40:06.220Z"
   },
   {
    "duration": 13,
    "start_time": "2022-06-26T20:40:06.241Z"
   },
   {
    "duration": 10,
    "start_time": "2022-06-26T20:40:06.256Z"
   },
   {
    "duration": 23,
    "start_time": "2022-06-26T20:40:06.267Z"
   },
   {
    "duration": 108,
    "start_time": "2022-06-26T20:40:06.293Z"
   },
   {
    "duration": 0,
    "start_time": "2022-06-26T20:40:06.403Z"
   },
   {
    "duration": 0,
    "start_time": "2022-06-26T20:40:06.404Z"
   },
   {
    "duration": 0,
    "start_time": "2022-06-26T20:40:06.406Z"
   },
   {
    "duration": 7,
    "start_time": "2022-06-26T20:40:28.282Z"
   },
   {
    "duration": 5,
    "start_time": "2022-06-26T20:42:53.266Z"
   },
   {
    "duration": 25,
    "start_time": "2022-06-26T20:47:53.965Z"
   },
   {
    "duration": 16,
    "start_time": "2022-06-26T20:49:55.969Z"
   },
   {
    "duration": 6,
    "start_time": "2022-06-26T20:51:37.502Z"
   },
   {
    "duration": 41,
    "start_time": "2022-06-26T20:59:57.282Z"
   },
   {
    "duration": 512,
    "start_time": "2022-06-26T21:00:05.651Z"
   },
   {
    "duration": 20,
    "start_time": "2022-06-26T21:00:06.165Z"
   },
   {
    "duration": 21,
    "start_time": "2022-06-26T21:00:06.186Z"
   },
   {
    "duration": 8,
    "start_time": "2022-06-26T21:00:06.209Z"
   },
   {
    "duration": 28,
    "start_time": "2022-06-26T21:00:06.220Z"
   },
   {
    "duration": 3,
    "start_time": "2022-06-26T21:00:06.249Z"
   },
   {
    "duration": 16,
    "start_time": "2022-06-26T21:00:06.253Z"
   },
   {
    "duration": 4,
    "start_time": "2022-06-26T21:00:06.271Z"
   },
   {
    "duration": 9,
    "start_time": "2022-06-26T21:00:06.277Z"
   },
   {
    "duration": 7,
    "start_time": "2022-06-26T21:00:06.287Z"
   },
   {
    "duration": 32,
    "start_time": "2022-06-26T21:00:06.295Z"
   },
   {
    "duration": 22,
    "start_time": "2022-06-26T21:00:06.329Z"
   },
   {
    "duration": 4,
    "start_time": "2022-06-26T21:00:06.353Z"
   },
   {
    "duration": 38,
    "start_time": "2022-06-26T21:00:06.360Z"
   },
   {
    "duration": 16,
    "start_time": "2022-06-26T21:00:06.399Z"
   },
   {
    "duration": 10,
    "start_time": "2022-06-26T21:00:06.419Z"
   },
   {
    "duration": 12,
    "start_time": "2022-06-26T21:00:06.431Z"
   },
   {
    "duration": 14,
    "start_time": "2022-06-26T21:00:06.445Z"
   },
   {
    "duration": 14,
    "start_time": "2022-06-26T21:00:06.460Z"
   },
   {
    "duration": 3,
    "start_time": "2022-06-26T21:00:06.475Z"
   },
   {
    "duration": 13,
    "start_time": "2022-06-26T21:00:06.480Z"
   },
   {
    "duration": 11,
    "start_time": "2022-06-26T21:00:06.495Z"
   },
   {
    "duration": 2,
    "start_time": "2022-06-26T21:00:06.507Z"
   },
   {
    "duration": 6,
    "start_time": "2022-06-26T21:00:06.511Z"
   },
   {
    "duration": 5,
    "start_time": "2022-06-26T21:00:06.518Z"
   },
   {
    "duration": 4,
    "start_time": "2022-06-26T21:01:26.891Z"
   },
   {
    "duration": 4,
    "start_time": "2022-06-26T21:01:48.415Z"
   },
   {
    "duration": 11,
    "start_time": "2022-06-26T21:02:57.806Z"
   },
   {
    "duration": 10,
    "start_time": "2022-06-26T21:25:44.664Z"
   },
   {
    "duration": 11,
    "start_time": "2022-06-26T21:25:58.986Z"
   },
   {
    "duration": 12,
    "start_time": "2022-06-26T21:27:40.854Z"
   },
   {
    "duration": 10,
    "start_time": "2022-06-26T21:29:33.417Z"
   },
   {
    "duration": 62,
    "start_time": "2022-06-26T21:31:31.745Z"
   },
   {
    "duration": 16,
    "start_time": "2022-06-26T21:32:11.513Z"
   },
   {
    "duration": 13,
    "start_time": "2022-06-26T21:32:37.263Z"
   },
   {
    "duration": 85,
    "start_time": "2022-06-26T21:32:58.109Z"
   },
   {
    "duration": 11,
    "start_time": "2022-06-26T21:33:11.046Z"
   },
   {
    "duration": 9,
    "start_time": "2022-06-26T21:35:02.289Z"
   },
   {
    "duration": 11,
    "start_time": "2022-06-26T21:36:25.892Z"
   },
   {
    "duration": 11,
    "start_time": "2022-06-26T21:36:48.569Z"
   },
   {
    "duration": 11,
    "start_time": "2022-06-26T21:37:06.297Z"
   },
   {
    "duration": 9,
    "start_time": "2022-06-26T21:37:11.522Z"
   },
   {
    "duration": 10,
    "start_time": "2022-06-26T21:37:40.657Z"
   },
   {
    "duration": 11,
    "start_time": "2022-06-26T21:37:52.268Z"
   },
   {
    "duration": 8,
    "start_time": "2022-06-26T21:40:35.220Z"
   },
   {
    "duration": 9,
    "start_time": "2022-06-26T21:40:58.857Z"
   },
   {
    "duration": 11,
    "start_time": "2022-06-26T21:41:44.974Z"
   },
   {
    "duration": 11,
    "start_time": "2022-06-26T21:44:12.564Z"
   },
   {
    "duration": 109,
    "start_time": "2022-06-27T13:33:54.211Z"
   },
   {
    "duration": 42,
    "start_time": "2022-06-27T13:34:02.488Z"
   },
   {
    "duration": 643,
    "start_time": "2022-06-27T13:34:11.614Z"
   },
   {
    "duration": 22,
    "start_time": "2022-06-27T13:34:12.259Z"
   },
   {
    "duration": 14,
    "start_time": "2022-06-27T13:34:12.282Z"
   },
   {
    "duration": 9,
    "start_time": "2022-06-27T13:34:12.297Z"
   },
   {
    "duration": 48,
    "start_time": "2022-06-27T13:34:12.308Z"
   },
   {
    "duration": 3,
    "start_time": "2022-06-27T13:34:12.358Z"
   },
   {
    "duration": 14,
    "start_time": "2022-06-27T13:34:12.363Z"
   },
   {
    "duration": 4,
    "start_time": "2022-06-27T13:34:12.379Z"
   },
   {
    "duration": 8,
    "start_time": "2022-06-27T13:34:12.384Z"
   },
   {
    "duration": 4,
    "start_time": "2022-06-27T13:34:12.394Z"
   },
   {
    "duration": 55,
    "start_time": "2022-06-27T13:34:12.399Z"
   },
   {
    "duration": 9,
    "start_time": "2022-06-27T13:34:12.456Z"
   },
   {
    "duration": 7,
    "start_time": "2022-06-27T13:34:12.466Z"
   },
   {
    "duration": 17,
    "start_time": "2022-06-27T13:34:12.475Z"
   },
   {
    "duration": 16,
    "start_time": "2022-06-27T13:34:12.493Z"
   },
   {
    "duration": 10,
    "start_time": "2022-06-27T13:34:12.510Z"
   },
   {
    "duration": 6,
    "start_time": "2022-06-27T13:34:12.522Z"
   },
   {
    "duration": 10,
    "start_time": "2022-06-27T13:34:12.553Z"
   },
   {
    "duration": 8,
    "start_time": "2022-06-27T13:34:12.564Z"
   },
   {
    "duration": 4,
    "start_time": "2022-06-27T13:34:12.573Z"
   },
   {
    "duration": 12,
    "start_time": "2022-06-27T13:34:12.578Z"
   },
   {
    "duration": 9,
    "start_time": "2022-06-27T13:34:12.591Z"
   },
   {
    "duration": 82,
    "start_time": "2022-06-27T13:34:12.601Z"
   },
   {
    "duration": 0,
    "start_time": "2022-06-27T13:34:12.684Z"
   },
   {
    "duration": 0,
    "start_time": "2022-06-27T13:34:12.686Z"
   },
   {
    "duration": 10,
    "start_time": "2022-06-27T13:44:39.918Z"
   },
   {
    "duration": 7,
    "start_time": "2022-06-27T13:45:20.730Z"
   },
   {
    "duration": 8,
    "start_time": "2022-06-27T13:45:37.941Z"
   },
   {
    "duration": 7,
    "start_time": "2022-06-27T13:45:49.002Z"
   },
   {
    "duration": 7,
    "start_time": "2022-06-27T13:46:22.116Z"
   },
   {
    "duration": 15,
    "start_time": "2022-06-27T13:46:32.438Z"
   },
   {
    "duration": 7,
    "start_time": "2022-06-27T13:46:46.040Z"
   },
   {
    "duration": 7,
    "start_time": "2022-06-27T13:46:52.320Z"
   },
   {
    "duration": 7,
    "start_time": "2022-06-27T13:47:21.858Z"
   },
   {
    "duration": 8,
    "start_time": "2022-06-27T13:47:39.315Z"
   },
   {
    "duration": 110,
    "start_time": "2022-06-27T13:47:56.122Z"
   },
   {
    "duration": 7,
    "start_time": "2022-06-27T13:48:06.762Z"
   },
   {
    "duration": 15,
    "start_time": "2022-06-27T13:48:12.880Z"
   },
   {
    "duration": 12,
    "start_time": "2022-06-27T13:48:27.031Z"
   },
   {
    "duration": 16,
    "start_time": "2022-06-27T13:48:41.580Z"
   },
   {
    "duration": 13,
    "start_time": "2022-06-27T13:48:54.678Z"
   },
   {
    "duration": 14,
    "start_time": "2022-06-27T13:49:06.699Z"
   },
   {
    "duration": 14,
    "start_time": "2022-06-27T13:49:21.351Z"
   },
   {
    "duration": 10,
    "start_time": "2022-06-27T13:49:52.148Z"
   },
   {
    "duration": 13,
    "start_time": "2022-06-27T14:08:20.366Z"
   },
   {
    "duration": 11,
    "start_time": "2022-06-27T14:09:30.278Z"
   },
   {
    "duration": 12,
    "start_time": "2022-06-27T14:14:32.289Z"
   },
   {
    "duration": 26,
    "start_time": "2022-06-27T15:20:52.679Z"
   },
   {
    "duration": 23,
    "start_time": "2022-06-27T15:22:55.805Z"
   },
   {
    "duration": 24,
    "start_time": "2022-06-27T15:25:16.653Z"
   },
   {
    "duration": 10,
    "start_time": "2022-06-27T15:53:14.706Z"
   },
   {
    "duration": 11,
    "start_time": "2022-06-27T15:53:29.727Z"
   },
   {
    "duration": 11,
    "start_time": "2022-06-27T15:53:33.368Z"
   },
   {
    "duration": 11,
    "start_time": "2022-06-27T15:53:46.281Z"
   },
   {
    "duration": 10,
    "start_time": "2022-06-27T15:53:47.022Z"
   },
   {
    "duration": 10,
    "start_time": "2022-06-27T15:54:20.145Z"
   },
   {
    "duration": 61,
    "start_time": "2022-06-28T13:35:42.298Z"
   },
   {
    "duration": 715,
    "start_time": "2022-06-28T13:35:52.775Z"
   },
   {
    "duration": 22,
    "start_time": "2022-06-28T13:35:53.492Z"
   },
   {
    "duration": 44,
    "start_time": "2022-06-28T13:35:53.516Z"
   },
   {
    "duration": 26,
    "start_time": "2022-06-28T13:35:53.562Z"
   },
   {
    "duration": 72,
    "start_time": "2022-06-28T13:35:53.589Z"
   },
   {
    "duration": 23,
    "start_time": "2022-06-28T13:35:53.663Z"
   },
   {
    "duration": 71,
    "start_time": "2022-06-28T13:35:53.688Z"
   },
   {
    "duration": 15,
    "start_time": "2022-06-28T13:35:53.760Z"
   },
   {
    "duration": 32,
    "start_time": "2022-06-28T13:35:53.777Z"
   },
   {
    "duration": 12,
    "start_time": "2022-06-28T13:35:53.812Z"
   },
   {
    "duration": 59,
    "start_time": "2022-06-28T13:35:53.826Z"
   },
   {
    "duration": 11,
    "start_time": "2022-06-28T13:35:53.887Z"
   },
   {
    "duration": 68,
    "start_time": "2022-06-28T13:35:53.899Z"
   },
   {
    "duration": 32,
    "start_time": "2022-06-28T13:35:53.968Z"
   },
   {
    "duration": 72,
    "start_time": "2022-06-28T13:35:54.002Z"
   },
   {
    "duration": 34,
    "start_time": "2022-06-28T13:35:54.076Z"
   },
   {
    "duration": 7,
    "start_time": "2022-06-28T13:35:54.112Z"
   },
   {
    "duration": 36,
    "start_time": "2022-06-28T13:35:54.121Z"
   },
   {
    "duration": 21,
    "start_time": "2022-06-28T13:35:54.159Z"
   },
   {
    "duration": 14,
    "start_time": "2022-06-28T13:35:54.181Z"
   },
   {
    "duration": 27,
    "start_time": "2022-06-28T13:35:54.196Z"
   },
   {
    "duration": 36,
    "start_time": "2022-06-28T13:35:54.232Z"
   },
   {
    "duration": 28,
    "start_time": "2022-06-28T13:35:54.269Z"
   },
   {
    "duration": 19,
    "start_time": "2022-06-28T13:35:54.298Z"
   },
   {
    "duration": 54,
    "start_time": "2022-06-28T13:35:54.318Z"
   },
   {
    "duration": 15,
    "start_time": "2022-06-28T13:35:54.373Z"
   },
   {
    "duration": 12,
    "start_time": "2022-06-28T13:35:55.661Z"
   },
   {
    "duration": 28,
    "start_time": "2022-06-28T13:36:18.031Z"
   },
   {
    "duration": 33,
    "start_time": "2022-06-28T13:38:56.709Z"
   },
   {
    "duration": 34,
    "start_time": "2022-06-28T13:39:13.213Z"
   },
   {
    "duration": 15,
    "start_time": "2022-06-28T13:40:32.914Z"
   },
   {
    "duration": 37,
    "start_time": "2022-06-28T13:48:13.625Z"
   },
   {
    "duration": 16,
    "start_time": "2022-06-28T13:51:48.094Z"
   },
   {
    "duration": 16,
    "start_time": "2022-06-28T13:52:19.384Z"
   },
   {
    "duration": 11,
    "start_time": "2022-06-28T13:54:12.295Z"
   },
   {
    "duration": 6,
    "start_time": "2022-06-28T13:54:18.194Z"
   },
   {
    "duration": 6,
    "start_time": "2022-06-28T13:54:26.484Z"
   },
   {
    "duration": 4,
    "start_time": "2022-06-28T13:54:58.905Z"
   },
   {
    "duration": 6,
    "start_time": "2022-06-28T13:55:42.893Z"
   },
   {
    "duration": 6,
    "start_time": "2022-06-28T13:55:45.655Z"
   },
   {
    "duration": 95,
    "start_time": "2022-06-28T13:56:11.274Z"
   },
   {
    "duration": 87,
    "start_time": "2022-06-28T13:56:15.858Z"
   },
   {
    "duration": 89,
    "start_time": "2022-06-28T13:56:17.484Z"
   },
   {
    "duration": 86,
    "start_time": "2022-07-02T22:02:19.446Z"
   },
   {
    "duration": 52,
    "start_time": "2022-07-02T22:07:45.335Z"
   },
   {
    "duration": 534,
    "start_time": "2022-07-02T22:07:53.551Z"
   },
   {
    "duration": 23,
    "start_time": "2022-07-02T22:07:54.087Z"
   },
   {
    "duration": 15,
    "start_time": "2022-07-02T22:07:54.112Z"
   },
   {
    "duration": 11,
    "start_time": "2022-07-02T22:07:54.129Z"
   },
   {
    "duration": 34,
    "start_time": "2022-07-02T22:07:54.142Z"
   },
   {
    "duration": 3,
    "start_time": "2022-07-02T22:07:54.178Z"
   },
   {
    "duration": 13,
    "start_time": "2022-07-02T22:07:54.183Z"
   },
   {
    "duration": 6,
    "start_time": "2022-07-02T22:07:54.197Z"
   },
   {
    "duration": 7,
    "start_time": "2022-07-02T22:07:54.228Z"
   },
   {
    "duration": 6,
    "start_time": "2022-07-02T22:07:54.237Z"
   },
   {
    "duration": 36,
    "start_time": "2022-07-02T22:07:54.244Z"
   },
   {
    "duration": 11,
    "start_time": "2022-07-02T22:07:54.281Z"
   },
   {
    "duration": 5,
    "start_time": "2022-07-02T22:07:54.293Z"
   },
   {
    "duration": 44,
    "start_time": "2022-07-02T22:07:54.301Z"
   },
   {
    "duration": 16,
    "start_time": "2022-07-02T22:07:54.346Z"
   },
   {
    "duration": 12,
    "start_time": "2022-07-02T22:07:54.364Z"
   },
   {
    "duration": 5,
    "start_time": "2022-07-02T22:07:54.378Z"
   },
   {
    "duration": 12,
    "start_time": "2022-07-02T22:07:54.384Z"
   },
   {
    "duration": 31,
    "start_time": "2022-07-02T22:07:54.397Z"
   },
   {
    "duration": 5,
    "start_time": "2022-07-02T22:07:54.430Z"
   },
   {
    "duration": 13,
    "start_time": "2022-07-02T22:07:54.436Z"
   },
   {
    "duration": 10,
    "start_time": "2022-07-02T22:07:54.450Z"
   },
   {
    "duration": 10,
    "start_time": "2022-07-02T22:07:54.461Z"
   },
   {
    "duration": 9,
    "start_time": "2022-07-02T22:07:54.473Z"
   },
   {
    "duration": 11,
    "start_time": "2022-07-02T22:07:54.527Z"
   },
   {
    "duration": 13,
    "start_time": "2022-07-02T22:07:54.540Z"
   },
   {
    "duration": 5,
    "start_time": "2022-07-02T22:07:54.555Z"
   },
   {
    "duration": 9,
    "start_time": "2022-07-02T22:07:54.562Z"
   },
   {
    "duration": 6,
    "start_time": "2022-07-02T22:07:54.572Z"
   },
   {
    "duration": 11,
    "start_time": "2022-07-02T22:07:54.579Z"
   },
   {
    "duration": 60,
    "start_time": "2022-07-02T22:08:41.076Z"
   },
   {
    "duration": 403,
    "start_time": "2023-12-29T14:34:33.972Z"
   },
   {
    "duration": 4,
    "start_time": "2023-12-29T14:49:07.431Z"
   },
   {
    "duration": 3,
    "start_time": "2023-12-29T14:49:08.315Z"
   },
   {
    "duration": 35,
    "start_time": "2023-12-29T15:00:41.524Z"
   },
   {
    "duration": 68,
    "start_time": "2023-12-29T15:00:51.073Z"
   },
   {
    "duration": 5,
    "start_time": "2023-12-29T15:07:06.111Z"
   },
   {
    "duration": 5,
    "start_time": "2023-12-29T15:07:15.734Z"
   },
   {
    "duration": 282,
    "start_time": "2023-12-29T15:07:18.088Z"
   },
   {
    "duration": 7,
    "start_time": "2023-12-29T15:07:24.061Z"
   },
   {
    "duration": 18,
    "start_time": "2023-12-29T15:07:56.781Z"
   },
   {
    "duration": 3,
    "start_time": "2023-12-29T15:13:31.440Z"
   },
   {
    "duration": 9,
    "start_time": "2023-12-29T15:22:41.233Z"
   },
   {
    "duration": 9,
    "start_time": "2023-12-29T15:22:45.634Z"
   },
   {
    "duration": 73,
    "start_time": "2023-12-29T15:22:47.542Z"
   },
   {
    "duration": 6,
    "start_time": "2023-12-29T15:22:58.493Z"
   },
   {
    "duration": 73,
    "start_time": "2023-12-29T15:23:24.761Z"
   },
   {
    "duration": 6,
    "start_time": "2023-12-29T15:23:29.512Z"
   },
   {
    "duration": 73,
    "start_time": "2023-12-29T15:24:04.498Z"
   },
   {
    "duration": 6,
    "start_time": "2023-12-29T15:24:07.953Z"
   },
   {
    "duration": 79,
    "start_time": "2023-12-29T15:24:57.226Z"
   },
   {
    "duration": 73,
    "start_time": "2023-12-29T15:26:29.030Z"
   },
   {
    "duration": 19,
    "start_time": "2023-12-29T15:26:31.700Z"
   },
   {
    "duration": 81,
    "start_time": "2023-12-29T15:26:53.743Z"
   },
   {
    "duration": 70,
    "start_time": "2023-12-29T15:27:05.011Z"
   },
   {
    "duration": 75,
    "start_time": "2023-12-29T15:27:24.562Z"
   },
   {
    "duration": 15,
    "start_time": "2023-12-29T15:27:30.485Z"
   },
   {
    "duration": 3,
    "start_time": "2023-12-29T15:30:33.139Z"
   }
  ],
  "celltoolbar": "Edit Metadata",
  "colab": {
   "name": "dpp_template_part2.ipynb",
   "provenance": []
  },
  "kernelspec": {
   "display_name": "Python 3 (ipykernel)",
   "language": "python",
   "name": "python3"
  },
  "language_info": {
   "codemirror_mode": {
    "name": "ipython",
    "version": 3
   },
   "file_extension": ".py",
   "mimetype": "text/x-python",
   "name": "python",
   "nbconvert_exporter": "python",
   "pygments_lexer": "ipython3",
   "version": "3.9.12"
  },
  "toc": {
   "base_numbering": 1,
   "nav_menu": {},
   "number_sections": true,
   "sideBar": true,
   "skip_h1_title": true,
   "title_cell": "Table of Contents",
   "title_sidebar": "Contents",
   "toc_cell": false,
   "toc_position": {},
   "toc_section_display": true,
   "toc_window_display": false
  }
 },
 "nbformat": 4,
 "nbformat_minor": 5
}
